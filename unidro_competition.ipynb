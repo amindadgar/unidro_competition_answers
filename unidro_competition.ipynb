{
  "nbformat": 4,
  "nbformat_minor": 0,
  "metadata": {
    "colab": {
      "name": "unidro_competition.ipynb",
      "provenance": [],
      "collapsed_sections": []
    },
    "kernelspec": {
      "name": "python3",
      "display_name": "Python 3"
    },
    "language_info": {
      "name": "python"
    }
  },
  "cells": [
    {
      "cell_type": "code",
      "metadata": {
        "colab": {
          "base_uri": "https://localhost:8080/"
        },
        "id": "0bp97yDikVVJ",
        "outputId": "5ddf06bd-4ec8-471f-c4a9-71bc9ea8be0b"
      },
      "source": [
        "import tensorflow as tf\n",
        "import pandas as pd\n",
        "import tensorflow.keras as keras\n",
        "import numpy as np\n",
        "import matplotlib.pyplot as plt\n",
        "\n",
        "\n",
        "\n",
        "## print them to see if they are installed or not\n",
        "print(tf.__version__)\n",
        "print(pd.__version__)\n",
        "print(keras.__version__)\n",
        "print(np.__version__)\n"
      ],
      "execution_count": null,
      "outputs": [
        {
          "output_type": "stream",
          "text": [
            "2.6.0\n",
            "1.1.5\n",
            "2.6.0\n",
            "1.19.5\n"
          ],
          "name": "stdout"
        }
      ]
    },
    {
      "cell_type": "code",
      "metadata": {
        "colab": {
          "base_uri": "https://localhost:8080/"
        },
        "id": "TcmLfc6JkkJy",
        "outputId": "d81b01f8-2540-4283-b3ab-c001d23c6232"
      },
      "source": [
        "## Downlaod Dataset\n",
        "## Google drive link https://drive.google.com/file/d/19p3qtGNlc_p12bi3wnbXtELUAR7CE6p8\n",
        "!gdown --id '19p3qtGNlc_p12bi3wnbXtELUAR7CE6p8'"
      ],
      "execution_count": null,
      "outputs": [
        {
          "output_type": "stream",
          "text": [
            "Downloading...\n",
            "From: https://drive.google.com/uc?id=19p3qtGNlc_p12bi3wnbXtELUAR7CE6p8\n",
            "To: /content/data.zip\n",
            "1.45GB [00:11, 128MB/s]\n"
          ],
          "name": "stdout"
        }
      ]
    },
    {
      "cell_type": "code",
      "metadata": {
        "id": "W9av9r4ckrH1",
        "colab": {
          "base_uri": "https://localhost:8080/"
        },
        "outputId": "f21547a5-e881-4c0a-b72f-3106e7f2b4f8"
      },
      "source": [
        "## Unzip data\n",
        "!unzip data.zip"
      ],
      "execution_count": null,
      "outputs": [
        {
          "output_type": "stream",
          "text": [
            "Archive:  data.zip\n",
            "  inflating: from-to-rqd.xlsx        \n",
            "  inflating: label.xlsx              \n",
            "   creating: test-rqd/\n",
            "  inflating: test-rqd/M3-BH3299-1.jpg  \n",
            "  inflating: test-rqd/M3-BH3299-2.jpg  \n",
            "  inflating: test-rqd/M3-BH3299-3.jpg  \n",
            "  inflating: test-rqd/M3-BH3299-4.jpg  \n",
            "  inflating: test-rqd/M3-BH3299-5.jpg  \n",
            "  inflating: test-rqd/M3-BH3299-6.jpg  \n",
            "  inflating: test-rqd/M3-BH3299-7.jpg  \n",
            "  inflating: test-rqd/M3-BH3299-8.jpg  \n",
            "  inflating: test-rqd/M3-BH3299-9.jpg  \n",
            "  inflating: test-rqd/M3-BH3300-1.jpg  \n",
            "  inflating: test-rqd/M3-BH3300-10.jpg  \n",
            "  inflating: test-rqd/M3-BH3300-11.jpg  \n",
            "  inflating: test-rqd/M3-BH3300-12.jpg  \n",
            "  inflating: test-rqd/M3-BH3300-13.jpg  \n",
            "  inflating: test-rqd/M3-BH3300-14.jpg  \n",
            "  inflating: test-rqd/M3-BH3300-15.jpg  \n",
            "  inflating: test-rqd/M3-BH3300-16.jpg  \n",
            "  inflating: test-rqd/M3-BH3300-17.jpg  \n",
            "  inflating: test-rqd/M3-BH3300-18.jpg  \n",
            "  inflating: test-rqd/M3-BH3300-2.jpg  \n",
            "  inflating: test-rqd/M3-BH3300-3.jpg  \n",
            "  inflating: test-rqd/M3-BH3300-4.jpg  \n",
            "  inflating: test-rqd/M3-BH3300-5.jpg  \n",
            "  inflating: test-rqd/M3-BH3300-6.jpg  \n",
            "  inflating: test-rqd/M3-BH3300-7.jpg  \n",
            "  inflating: test-rqd/M3-BH3300-8.jpg  \n",
            "  inflating: test-rqd/M3-BH3300-9.jpg  \n",
            "  inflating: test-rqd/M3-BH3301-1.jpg  \n",
            "  inflating: test-rqd/M3-BH3301-10.jpg  \n",
            "  inflating: test-rqd/M3-BH3301-11.jpg  \n",
            "  inflating: test-rqd/M3-BH3301-12.jpg  \n",
            "  inflating: test-rqd/M3-BH3301-13.jpg  \n",
            "  inflating: test-rqd/M3-BH3301-14.jpg  \n",
            "  inflating: test-rqd/M3-BH3301-15.jpg  \n",
            "  inflating: test-rqd/M3-BH3301-16.jpg  \n",
            "  inflating: test-rqd/M3-BH3301-17.jpg  \n",
            "  inflating: test-rqd/M3-BH3301-18.jpg  \n",
            "  inflating: test-rqd/M3-BH3301-19.jpg  \n",
            "  inflating: test-rqd/M3-BH3301-2.jpg  \n",
            "  inflating: test-rqd/M3-BH3301-20.jpg  \n",
            "  inflating: test-rqd/M3-BH3301-21.jpg  \n",
            "  inflating: test-rqd/M3-BH3301-3.jpg  \n",
            "  inflating: test-rqd/M3-BH3301-4.jpg  \n",
            "  inflating: test-rqd/M3-BH3301-5.jpg  \n",
            "  inflating: test-rqd/M3-BH3301-6.jpg  \n",
            "  inflating: test-rqd/M3-BH3301-7.jpg  \n",
            "  inflating: test-rqd/M3-BH3301-8.jpg  \n",
            "  inflating: test-rqd/M3-BH3301-9.jpg  \n",
            "   creating: train/\n",
            "  inflating: train/M3-BH130-1.jpg    \n",
            "  inflating: train/M3-BH130-10.jpg   \n",
            "  inflating: train/M3-BH130-11.jpg   \n",
            "  inflating: train/M3-BH130-12.jpg   \n",
            "  inflating: train/M3-BH130-13.jpg   \n",
            "  inflating: train/M3-BH130-14.jpg   \n",
            "  inflating: train/M3-BH130-15.jpg   \n",
            "  inflating: train/M3-BH130-16.jpg   \n",
            "  inflating: train/M3-BH130-17.jpg   \n",
            "  inflating: train/M3-BH130-18.jpg   \n",
            "  inflating: train/M3-BH130-19.jpg   \n",
            "  inflating: train/M3-BH130-2.jpg    \n",
            "  inflating: train/M3-BH130-20.jpg   \n",
            "  inflating: train/M3-BH130-21.jpg   \n",
            "  inflating: train/M3-BH130-22.jpg   \n",
            "  inflating: train/M3-BH130-23.jpg   \n",
            "  inflating: train/M3-BH130-24.jpg   \n",
            "  inflating: train/M3-BH130-25.jpg   \n",
            "  inflating: train/M3-BH130-26.jpg   \n",
            "  inflating: train/M3-BH130-27.jpg   \n",
            "  inflating: train/M3-BH130-28.jpg   \n",
            "  inflating: train/M3-BH130-29.jpg   \n",
            "  inflating: train/M3-BH130-3.jpg    \n",
            "  inflating: train/M3-BH130-30.jpg   \n",
            "  inflating: train/M3-BH130-4.jpg    \n",
            "  inflating: train/M3-BH130-5.jpg    \n",
            "  inflating: train/M3-BH130-6.jpg    \n",
            "  inflating: train/M3-BH130-7.jpg    \n",
            "  inflating: train/M3-BH130-8.jpg    \n",
            "  inflating: train/M3-BH130-9.jpg    \n",
            "  inflating: train/M3-BH13150-1.jpg  \n",
            "  inflating: train/M3-BH13150-10.jpg  \n",
            "  inflating: train/M3-BH13150-11.jpg  \n",
            "  inflating: train/M3-BH13150-12.jpg  \n",
            "  inflating: train/M3-BH13150-13.jpg  \n",
            "  inflating: train/M3-BH13150-14.jpg  \n",
            "  inflating: train/M3-BH13150-15.jpg  \n",
            "  inflating: train/M3-BH13150-16.jpg  \n",
            "  inflating: train/M3-BH13150-17.jpg  \n",
            "  inflating: train/M3-BH13150-18.jpg  \n",
            "  inflating: train/M3-BH13150-19.jpg  \n",
            "  inflating: train/M3-BH13150-2.jpg  \n",
            "  inflating: train/M3-BH13150-20.jpg  \n",
            "  inflating: train/M3-BH13150-21.jpg  \n",
            "  inflating: train/M3-BH13150-22.jpg  \n",
            "  inflating: train/M3-BH13150-23.jpg  \n",
            "  inflating: train/M3-BH13150-24.jpg  \n",
            "  inflating: train/M3-BH13150-25.jpg  \n",
            "  inflating: train/M3-BH13150-26.jpg  \n",
            "  inflating: train/M3-BH13150-27.jpg  \n",
            "  inflating: train/M3-BH13150-28.jpg  \n",
            "  inflating: train/M3-BH13150-29.jpg  \n",
            "  inflating: train/M3-BH13150-3.jpg  \n",
            "  inflating: train/M3-BH13150-30.jpg  \n",
            "  inflating: train/M3-BH13150-31.jpg  \n",
            "  inflating: train/M3-BH13150-32.jpg  \n",
            "  inflating: train/M3-BH13150-33.jpg  \n",
            "  inflating: train/M3-BH13150-34.jpg  \n",
            "  inflating: train/M3-BH13150-35.jpg  \n",
            "  inflating: train/M3-BH13150-36.jpg  \n",
            "  inflating: train/M3-BH13150-37.jpg  \n",
            "  inflating: train/M3-BH13150-38.jpg  \n",
            "  inflating: train/M3-BH13150-39.jpg  \n",
            "  inflating: train/M3-BH13150-4.jpg  \n",
            "  inflating: train/M3-BH13150-40.jpg  \n",
            "  inflating: train/M3-BH13150-5.jpg  \n",
            "  inflating: train/M3-BH13150-6.jpg  \n",
            "  inflating: train/M3-BH13150-7.jpg  \n",
            "  inflating: train/M3-BH13150-8.jpg  \n",
            "  inflating: train/M3-BH13150-9.jpg  \n",
            "  inflating: train/M3-BH13250-1.jpg  \n",
            "  inflating: train/M3-BH13250-10.jpg  \n",
            "  inflating: train/M3-BH13250-11.jpg  \n",
            "  inflating: train/M3-BH13250-12.jpg  \n",
            "  inflating: train/M3-BH13250-13.jpg  \n",
            "  inflating: train/M3-BH13250-14.jpg  \n",
            "  inflating: train/M3-BH13250-15.jpg  \n",
            "  inflating: train/M3-BH13250-16.jpg  \n",
            "  inflating: train/M3-BH13250-17.jpg  \n",
            "  inflating: train/M3-BH13250-18.jpg  \n",
            "  inflating: train/M3-BH13250-19.jpg  \n",
            "  inflating: train/M3-BH13250-2.jpg  \n",
            "  inflating: train/M3-BH13250-20.jpg  \n",
            "  inflating: train/M3-BH13250-21.jpg  \n",
            "  inflating: train/M3-BH13250-22.jpg  \n",
            "  inflating: train/M3-BH13250-23.jpg  \n",
            "  inflating: train/M3-BH13250-24.jpg  \n",
            "  inflating: train/M3-BH13250-25.jpg  \n",
            "  inflating: train/M3-BH13250-26.jpg  \n",
            "  inflating: train/M3-BH13250-27.jpg  \n",
            "  inflating: train/M3-BH13250-28.jpg  \n",
            "  inflating: train/M3-BH13250-29.jpg  \n",
            "  inflating: train/M3-BH13250-3.jpg  \n",
            "  inflating: train/M3-BH13250-30.jpg  \n",
            "  inflating: train/M3-BH13250-31.jpg  \n",
            "  inflating: train/M3-BH13250-32.jpg  \n",
            "  inflating: train/M3-BH13250-33.jpg  \n",
            "  inflating: train/M3-BH13250-4.jpg  \n",
            "  inflating: train/M3-BH13250-5.jpg  \n",
            "  inflating: train/M3-BH13250-6.jpg  \n",
            "  inflating: train/M3-BH13250-7.jpg  \n",
            "  inflating: train/M3-BH13250-8.jpg  \n",
            "  inflating: train/M3-BH13250-9.jpg  \n",
            "  inflating: train/M3-BH13400-1.JPG  \n",
            "  inflating: train/M3-BH13400-2.JPG  \n",
            "  inflating: train/M3-BH13400-3.JPG  \n",
            "  inflating: train/M3-BH13400-4.JPG  \n",
            "  inflating: train/M3-BH13400-5.JPG  \n",
            "  inflating: train/M3-BH13400-6.JPG  \n",
            "  inflating: train/M3-BH13400-7.JPG  \n",
            "  inflating: train/M3-BH300-1.JPG    \n",
            "  inflating: train/M3-BH300-10.JPG   \n",
            "  inflating: train/M3-BH300-11.JPG   \n",
            "  inflating: train/M3-BH300-12.JPG   \n",
            "  inflating: train/M3-BH300-13.JPG   \n",
            "  inflating: train/M3-BH300-14.JPG   \n",
            "  inflating: train/M3-BH300-15.JPG   \n",
            "  inflating: train/M3-BH300-16.JPG   \n",
            "  inflating: train/M3-BH300-17.JPG   \n",
            "  inflating: train/M3-BH300-18.JPG   \n",
            "  inflating: train/M3-BH300-19.JPG   \n",
            "  inflating: train/M3-BH300-2.JPG    \n",
            "  inflating: train/M3-BH300-20.JPG   \n",
            "  inflating: train/M3-BH300-21.JPG   \n",
            "  inflating: train/M3-BH300-22.JPG   \n",
            "  inflating: train/M3-BH300-23.JPG   \n",
            "  inflating: train/M3-BH300-24.JPG   \n",
            "  inflating: train/M3-BH300-25.JPG   \n",
            "  inflating: train/M3-BH300-26.JPG   \n",
            "  inflating: train/M3-BH300-27.JPG   \n",
            "  inflating: train/M3-BH300-28.JPG   \n",
            "  inflating: train/M3-BH300-29.JPG   \n",
            "  inflating: train/M3-BH300-3.JPG    \n",
            "  inflating: train/M3-BH300-30.JPG   \n",
            "  inflating: train/M3-BH300-31.JPG   \n",
            "  inflating: train/M3-BH300-32.JPG   \n",
            "  inflating: train/M3-BH300-33.JPG   \n",
            "  inflating: train/M3-BH300-34.JPG   \n",
            "  inflating: train/M3-BH300-35.JPG   \n",
            "  inflating: train/M3-BH300-36.JPG   \n",
            "  inflating: train/M3-BH300-37.JPG   \n",
            "  inflating: train/M3-BH300-38.JPG   \n",
            "  inflating: train/M3-BH300-39.JPG   \n",
            "  inflating: train/M3-BH300-4.JPG    \n",
            "  inflating: train/M3-BH300-40.JPG   \n",
            "  inflating: train/M3-BH300-41.JPG   \n",
            "  inflating: train/M3-BH300-42.JPG   \n",
            "  inflating: train/M3-BH300-43.JPG   \n",
            "  inflating: train/M3-BH300-44.JPG   \n",
            "  inflating: train/M3-BH300-45.JPG   \n",
            "  inflating: train/M3-BH300-46.JPG   \n",
            "  inflating: train/M3-BH300-5.JPG    \n",
            "  inflating: train/M3-BH300-6.JPG    \n",
            "  inflating: train/M3-BH300-7.JPG    \n",
            "  inflating: train/M3-BH300-8.JPG    \n",
            "  inflating: train/M3-BH300-9.JPG    \n"
          ],
          "name": "stdout"
        }
      ]
    },
    {
      "cell_type": "code",
      "metadata": {
        "colab": {
          "base_uri": "https://localhost:8080/",
          "height": 203
        },
        "id": "ngF6Mkv4pUdm",
        "outputId": "ff9e87e6-2f3d-4da4-f0f5-fc26cc4c050a"
      },
      "source": [
        "## Load dataset\n",
        "fromTo_df = pd.read_excel('from-to-rqd.xlsx')\n",
        "fromTo_df.head()"
      ],
      "execution_count": null,
      "outputs": [
        {
          "output_type": "execute_result",
          "data": {
            "text/html": [
              "<div>\n",
              "<style scoped>\n",
              "    .dataframe tbody tr th:only-of-type {\n",
              "        vertical-align: middle;\n",
              "    }\n",
              "\n",
              "    .dataframe tbody tr th {\n",
              "        vertical-align: top;\n",
              "    }\n",
              "\n",
              "    .dataframe thead th {\n",
              "        text-align: right;\n",
              "    }\n",
              "</style>\n",
              "<table border=\"1\" class=\"dataframe\">\n",
              "  <thead>\n",
              "    <tr style=\"text-align: right;\">\n",
              "      <th></th>\n",
              "      <th>RunId</th>\n",
              "      <th>from</th>\n",
              "      <th>to</th>\n",
              "    </tr>\n",
              "  </thead>\n",
              "  <tbody>\n",
              "    <tr>\n",
              "      <th>0</th>\n",
              "      <td>M3-BH3299-1-1</td>\n",
              "      <td>0.0</td>\n",
              "      <td>2.2</td>\n",
              "    </tr>\n",
              "    <tr>\n",
              "      <th>1</th>\n",
              "      <td>M3-BH3299-1-2</td>\n",
              "      <td>2.2</td>\n",
              "      <td>3.3</td>\n",
              "    </tr>\n",
              "    <tr>\n",
              "      <th>2</th>\n",
              "      <td>M3-BH3299-1-3</td>\n",
              "      <td>3.3</td>\n",
              "      <td>4.4</td>\n",
              "    </tr>\n",
              "    <tr>\n",
              "      <th>3</th>\n",
              "      <td>M3-BH3299-2-1</td>\n",
              "      <td>4.4</td>\n",
              "      <td>4.9</td>\n",
              "    </tr>\n",
              "    <tr>\n",
              "      <th>4</th>\n",
              "      <td>M3-BH3299-2-2</td>\n",
              "      <td>4.9</td>\n",
              "      <td>6.5</td>\n",
              "    </tr>\n",
              "  </tbody>\n",
              "</table>\n",
              "</div>"
            ],
            "text/plain": [
              "           RunId  from   to\n",
              "0  M3-BH3299-1-1   0.0  2.2\n",
              "1  M3-BH3299-1-2   2.2  3.3\n",
              "2  M3-BH3299-1-3   3.3  4.4\n",
              "3  M3-BH3299-2-1   4.4  4.9\n",
              "4  M3-BH3299-2-2   4.9  6.5"
            ]
          },
          "metadata": {},
          "execution_count": 5
        }
      ]
    },
    {
      "cell_type": "code",
      "metadata": {
        "colab": {
          "base_uri": "https://localhost:8080/",
          "height": 203
        },
        "id": "YclQnOhnrU4o",
        "outputId": "0cc8a5ec-322d-4539-94ae-8fcfe6cd0478"
      },
      "source": [
        "## Load the labels dataset\n",
        "label_df = pd.read_excel('label.xlsx')\n",
        "label_df.head()"
      ],
      "execution_count": null,
      "outputs": [
        {
          "output_type": "execute_result",
          "data": {
            "text/html": [
              "<div>\n",
              "<style scoped>\n",
              "    .dataframe tbody tr th:only-of-type {\n",
              "        vertical-align: middle;\n",
              "    }\n",
              "\n",
              "    .dataframe tbody tr th {\n",
              "        vertical-align: top;\n",
              "    }\n",
              "\n",
              "    .dataframe thead th {\n",
              "        text-align: right;\n",
              "    }\n",
              "</style>\n",
              "<table border=\"1\" class=\"dataframe\">\n",
              "  <thead>\n",
              "    <tr style=\"text-align: right;\">\n",
              "      <th></th>\n",
              "      <th>image_name</th>\n",
              "      <th>label_name</th>\n",
              "      <th>xmin</th>\n",
              "      <th>ymin</th>\n",
              "      <th>width</th>\n",
              "      <th>height</th>\n",
              "      <th>image_width</th>\n",
              "      <th>image_height</th>\n",
              "    </tr>\n",
              "  </thead>\n",
              "  <tbody>\n",
              "    <tr>\n",
              "      <th>0</th>\n",
              "      <td>M3-BH130-1.jpg</td>\n",
              "      <td>wood</td>\n",
              "      <td>2412</td>\n",
              "      <td>1552</td>\n",
              "      <td>152</td>\n",
              "      <td>197</td>\n",
              "      <td>4020</td>\n",
              "      <td>2929</td>\n",
              "    </tr>\n",
              "    <tr>\n",
              "      <th>1</th>\n",
              "      <td>M3-BH130-1.jpg</td>\n",
              "      <td>wood</td>\n",
              "      <td>2917</td>\n",
              "      <td>2072</td>\n",
              "      <td>140</td>\n",
              "      <td>220</td>\n",
              "      <td>4020</td>\n",
              "      <td>2929</td>\n",
              "    </tr>\n",
              "    <tr>\n",
              "      <th>2</th>\n",
              "      <td>M3-BH130-1.jpg</td>\n",
              "      <td>wood</td>\n",
              "      <td>3820</td>\n",
              "      <td>1567</td>\n",
              "      <td>167</td>\n",
              "      <td>209</td>\n",
              "      <td>4020</td>\n",
              "      <td>2929</td>\n",
              "    </tr>\n",
              "    <tr>\n",
              "      <th>3</th>\n",
              "      <td>M3-BH130-1.jpg</td>\n",
              "      <td>wood</td>\n",
              "      <td>3603</td>\n",
              "      <td>2341</td>\n",
              "      <td>201</td>\n",
              "      <td>186</td>\n",
              "      <td>4020</td>\n",
              "      <td>2929</td>\n",
              "    </tr>\n",
              "    <tr>\n",
              "      <th>4</th>\n",
              "      <td>M3-BH130-1.jpg</td>\n",
              "      <td>wood</td>\n",
              "      <td>1676</td>\n",
              "      <td>2713</td>\n",
              "      <td>159</td>\n",
              "      <td>171</td>\n",
              "      <td>4020</td>\n",
              "      <td>2929</td>\n",
              "    </tr>\n",
              "  </tbody>\n",
              "</table>\n",
              "</div>"
            ],
            "text/plain": [
              "       image_name label_name  xmin  ...  height  image_width  image_height\n",
              "0  M3-BH130-1.jpg       wood  2412  ...     197         4020          2929\n",
              "1  M3-BH130-1.jpg       wood  2917  ...     220         4020          2929\n",
              "2  M3-BH130-1.jpg       wood  3820  ...     209         4020          2929\n",
              "3  M3-BH130-1.jpg       wood  3603  ...     186         4020          2929\n",
              "4  M3-BH130-1.jpg       wood  1676  ...     171         4020          2929\n",
              "\n",
              "[5 rows x 8 columns]"
            ]
          },
          "metadata": {},
          "execution_count": 6
        }
      ]
    },
    {
      "cell_type": "code",
      "metadata": {
        "colab": {
          "base_uri": "https://localhost:8080/"
        },
        "id": "NvBCZ6oqkiZs",
        "outputId": "c7008929-29ce-4e2f-fd9e-f9ad67d7c208"
      },
      "source": [
        "print(label_df[label_df.label_name != 'wood'].head(1))"
      ],
      "execution_count": null,
      "outputs": [
        {
          "output_type": "stream",
          "text": [
            "       image_name  label_name  xmin  ...  height  image_width  image_height\n",
            "5  M3-BH130-1.jpg  +10cm rock    94  ...     209         4020          2929\n",
            "\n",
            "[1 rows x 8 columns]\n"
          ],
          "name": "stdout"
        }
      ]
    },
    {
      "cell_type": "code",
      "metadata": {
        "colab": {
          "base_uri": "https://localhost:8080/",
          "height": 248
        },
        "id": "JvUGhsK6CsJh",
        "outputId": "8b96cc70-d9ce-4cb4-d0f4-2d533da674da"
      },
      "source": [
        "## Plot the woods that are shown to devide each diggings\n",
        "type_values = label_df.label_name.value_counts()\n",
        "\n",
        "fig1, ax1 = plt.subplots()\n",
        "\n",
        "ax1.pie(type_values.values, labels=type_values.index,shadow=True,autopct='%1.1f%%')\n",
        "plt.show()"
      ],
      "execution_count": null,
      "outputs": [
        {
          "output_type": "display_data",
          "data": {
            "image/png": "[encoded data removed]",
            "text/plain": [
              "<Figure size 432x288 with 1 Axes>"
            ]
          },
          "metadata": {}
        }
      ]
    },
    {
      "cell_type": "code",
      "metadata": {
        "colab": {
          "base_uri": "https://localhost:8080/"
        },
        "id": "H2h1FG78rblp",
        "outputId": "e19c752f-a451-4282-c983-11ddff3cb69d"
      },
      "source": [
        "## Get Dataset into batches\n",
        "train_ds = keras.preprocessing.image_dataset_from_directory('train',labels=None)\n",
        "\n",
        "filePaths = train_ds.file_paths\n",
        "\n",
        "## We used Box instead of persian word gamane\n",
        "## box Array\n",
        "box_arr = []\n",
        "for name in filePaths:\n",
        "  ## Slice and get the box names\n",
        "  sliced = name[9:]\n",
        "  ## Get exclusively box names\n",
        "  sliced = sliced.split('-')[0]\n",
        "  box_arr.append(sliced)\n",
        "\n",
        "## Get all the unique boxes\n",
        "box_names = np.unique(box_arr)\n",
        "print('unique box names',box_names)\n",
        "print('files count', len(filePaths))"
      ],
      "execution_count": null,
      "outputs": [
        {
          "output_type": "stream",
          "text": [
            "Found 156 files belonging to 1 classes.\n",
            "unique box names ['BH130' 'BH13150' 'BH13250' 'BH13400' 'BH300']\n",
            "files count 156\n"
          ],
          "name": "stdout"
        }
      ]
    },
    {
      "cell_type": "code",
      "metadata": {
        "colab": {
          "base_uri": "https://localhost:8080/",
          "height": 367
        },
        "id": "8EYw52O31Srd",
        "outputId": "18a61dbe-63b9-4aed-8ed6-d038025560c6"
      },
      "source": [
        "################################ Get diging lengths ################################\n",
        "def get_dig_lenghts(dataframe):\n",
        "  each_box_len = []\n",
        "  for run_id in dataframe.RunId:\n",
        "    row = dataframe[dataframe.RunId == run_id]\n",
        "    len_value = row['to'] - row['from']\n",
        "    each_box_len.append(len_value.values[0])\n",
        "  return each_box_len\n",
        "\n",
        "## Get the Box name and the run numbers\n",
        "def getRun_box_names(dataframe):\n",
        "  array = []\n",
        "  for name in dataframe.RunId:\n",
        "    ## Just get the image name and the run number from it\n",
        "    sliced = name.split('.')\n",
        "    sliced_name = sliced[0].split('-')\n",
        "    imageAndRunName = sliced_name[1] +'-'+ sliced_name[2]  \n",
        "    array.append(imageAndRunName)\n",
        "  return array\n",
        "\n",
        "diging_lenghts = get_dig_lenghts(fromTo_df)\n",
        "## Get the max digging value\n",
        "print('max digging value: ', np.max(diging_lenghts))\n",
        "\n",
        "## show diggings values in a chart\n",
        "len_dict = {\n",
        "    'less than 0.5':0,\n",
        "    'between 0.5 and 1': 0,\n",
        "    'between 1 and 1.5': 0,\n",
        "    'between 1.5 and 2':0,\n",
        "    'bigger than 2':0\n",
        "    }\n",
        "## fill the dictionary\n",
        "for value in diging_lenghts:\n",
        "  if value < 0.5:\n",
        "    len_dict['less than 0.5'] +=1\n",
        "  elif value < 1:\n",
        "     len_dict['between 0.5 and 1'] +=1\n",
        "  elif value <1.5:\n",
        "    len_dict['between 1 and 1.5'] +=1\n",
        "  elif value <2:\n",
        "    len_dict['between 1.5 and 2'] +=1\n",
        "  else:\n",
        "    len_dict['bigger than 2'] +=1\n",
        "\n",
        "print('\\n\\n')\n",
        "## Plot it\n",
        "fig1, (ax1,ax2) = plt.subplots(nrows=1,ncols=2,figsize=(25,4))\n",
        "\n",
        "ax1.pie(len_dict.values(), labels=len_dict.keys() ,shadow=True,autopct='%1.1f%%')\n",
        "box_arr = getRun_box_names(fromTo_df)\n",
        "ax2.bar(box_arr ,diging_lenghts)\n",
        "ax2.set_xlabel('run\\'s id')\n",
        "ax2.set_ylabel('digging sizes')\n",
        "ax2.tick_params(pad=5)\n",
        "\n",
        "plt.xticks(rotation=75)\n",
        "plt.title('digging lengths')\n",
        "plt.show()\n",
        "\n"
      ],
      "execution_count": null,
      "outputs": [
        {
          "output_type": "stream",
          "text": [
            "max digging value:  3.1000000000000085\n",
            "\n",
            "\n",
            "\n"
          ],
          "name": "stdout"
        },
        {
          "output_type": "display_data",
          "data": {
            "image/png": "[encoded data removed]",
            "text/plain": [
              "<Figure size 1800x288 with 2 Axes>"
            ]
          },
          "metadata": {
            "needs_background": "light"
          }
        }
      ]
    },
    {
      "cell_type": "code",
      "metadata": {
        "colab": {
          "base_uri": "https://localhost:8080/"
        },
        "id": "eCPBa3JN4CkT",
        "outputId": "49b0b42c-c1b1-42e9-dfc4-ed9ce42dff31"
      },
      "source": [
        "################################ Get the max 'to' value ################################\n",
        "\n",
        "to_values = []\n",
        "for run_id in fromTo_df.RunId:\n",
        "  row = fromTo_df[fromTo_df.RunId == run_id]\n",
        "  len_value = row['to']\n",
        "  to_values.append(len_value.values[0])\n",
        "\n",
        "## Get the max 'to' value\n",
        "max_value = np.max(to_values)\n",
        "row = fromTo_df[fromTo_df.to == max_value]\n",
        "print(row,'\\n\\n')\n"
      ],
      "execution_count": null,
      "outputs": [
        {
          "output_type": "stream",
          "text": [
            "              RunId  from     to\n",
            "179  M3-BH3301-21-1  94.7  95.65 \n",
            "\n",
            "\n"
          ],
          "name": "stdout"
        }
      ]
    }
  ]
}